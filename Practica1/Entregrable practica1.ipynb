{
 "cells": [
  {
   "cell_type": "code",
   "execution_count": 2,
   "metadata": {},
   "outputs": [],
   "source": [
    "import numpy as np\n",
    "import pandas as pd\n",
    "from sklearn import tree\n",
    "from sklearn.metrics import accuracy_score, roc_auc_score\n",
    "from sklearn.preprocessing import OneHotEncoder"
   ]
  },
  {
   "cell_type": "code",
   "execution_count": 3,
   "metadata": {},
   "outputs": [],
   "source": [
    "df_weather = pd.read_csv('weatherAUS.csv')"
   ]
  },
  {
   "cell_type": "code",
   "execution_count": 4,
   "metadata": {},
   "outputs": [],
   "source": [
    "#Quitamos los valores nulos\n",
    "for i in range (0,df_weather.shape[1]):\n",
    "    if type(df_weather[(df_weather.columns)[i]][0]) == str:\n",
    "        df_weather[(df_weather.columns)[i]].fillna((df_weather[(df_weather.columns)[i]].mode())[0], inplace = True)\n",
    "    else:\n",
    "        df_weather[(df_weather.columns)[i]].fillna(df_weather[(df_weather.columns)[i]].mean(), inplace = True)\n"
   ]
  },
  {
   "cell_type": "code",
   "execution_count": 5,
   "metadata": {},
   "outputs": [],
   "source": [
    "features = df_weather.columns\n",
    "attributes = features[:-1]\n",
    "target = features[-1]"
   ]
  },
  {
   "cell_type": "code",
   "execution_count": 6,
   "metadata": {},
   "outputs": [
    {
     "data": {
      "text/html": [
       "<div>\n",
       "<style scoped>\n",
       "    .dataframe tbody tr th:only-of-type {\n",
       "        vertical-align: middle;\n",
       "    }\n",
       "\n",
       "    .dataframe tbody tr th {\n",
       "        vertical-align: top;\n",
       "    }\n",
       "\n",
       "    .dataframe thead th {\n",
       "        text-align: right;\n",
       "    }\n",
       "</style>\n",
       "<table border=\"1\" class=\"dataframe\">\n",
       "  <thead>\n",
       "    <tr style=\"text-align: right;\">\n",
       "      <th></th>\n",
       "      <th>Date</th>\n",
       "      <th>Location</th>\n",
       "      <th>MinTemp</th>\n",
       "      <th>MaxTemp</th>\n",
       "      <th>Rainfall</th>\n",
       "      <th>Evaporation</th>\n",
       "      <th>Sunshine</th>\n",
       "      <th>WindGustDir</th>\n",
       "      <th>WindGustSpeed</th>\n",
       "      <th>WindDir9am</th>\n",
       "      <th>...</th>\n",
       "      <th>WindSpeed3pm</th>\n",
       "      <th>Humidity9am</th>\n",
       "      <th>Humidity3pm</th>\n",
       "      <th>Pressure9am</th>\n",
       "      <th>Pressure3pm</th>\n",
       "      <th>Cloud9am</th>\n",
       "      <th>Cloud3pm</th>\n",
       "      <th>Temp9am</th>\n",
       "      <th>Temp3pm</th>\n",
       "      <th>RainToday</th>\n",
       "    </tr>\n",
       "  </thead>\n",
       "  <tbody>\n",
       "    <tr>\n",
       "      <th>0</th>\n",
       "      <td>2008-12-01</td>\n",
       "      <td>Albury</td>\n",
       "      <td>13.4</td>\n",
       "      <td>22.900000</td>\n",
       "      <td>0.6</td>\n",
       "      <td>5.468232</td>\n",
       "      <td>7.611178</td>\n",
       "      <td>W</td>\n",
       "      <td>44.00000</td>\n",
       "      <td>W</td>\n",
       "      <td>...</td>\n",
       "      <td>24.0</td>\n",
       "      <td>71.0</td>\n",
       "      <td>22.0</td>\n",
       "      <td>1007.7</td>\n",
       "      <td>1007.1</td>\n",
       "      <td>8.000000</td>\n",
       "      <td>4.50993</td>\n",
       "      <td>16.9</td>\n",
       "      <td>21.8</td>\n",
       "      <td>No</td>\n",
       "    </tr>\n",
       "    <tr>\n",
       "      <th>1</th>\n",
       "      <td>2008-12-02</td>\n",
       "      <td>Albury</td>\n",
       "      <td>7.4</td>\n",
       "      <td>25.100000</td>\n",
       "      <td>0.0</td>\n",
       "      <td>5.468232</td>\n",
       "      <td>7.611178</td>\n",
       "      <td>WNW</td>\n",
       "      <td>44.00000</td>\n",
       "      <td>NNW</td>\n",
       "      <td>...</td>\n",
       "      <td>22.0</td>\n",
       "      <td>44.0</td>\n",
       "      <td>25.0</td>\n",
       "      <td>1010.6</td>\n",
       "      <td>1007.8</td>\n",
       "      <td>4.447461</td>\n",
       "      <td>4.50993</td>\n",
       "      <td>17.2</td>\n",
       "      <td>24.3</td>\n",
       "      <td>No</td>\n",
       "    </tr>\n",
       "    <tr>\n",
       "      <th>2</th>\n",
       "      <td>2008-12-03</td>\n",
       "      <td>Albury</td>\n",
       "      <td>12.9</td>\n",
       "      <td>25.700000</td>\n",
       "      <td>0.0</td>\n",
       "      <td>5.468232</td>\n",
       "      <td>7.611178</td>\n",
       "      <td>WSW</td>\n",
       "      <td>46.00000</td>\n",
       "      <td>W</td>\n",
       "      <td>...</td>\n",
       "      <td>26.0</td>\n",
       "      <td>38.0</td>\n",
       "      <td>30.0</td>\n",
       "      <td>1007.6</td>\n",
       "      <td>1008.7</td>\n",
       "      <td>4.447461</td>\n",
       "      <td>2.00000</td>\n",
       "      <td>21.0</td>\n",
       "      <td>23.2</td>\n",
       "      <td>No</td>\n",
       "    </tr>\n",
       "    <tr>\n",
       "      <th>3</th>\n",
       "      <td>2008-12-04</td>\n",
       "      <td>Albury</td>\n",
       "      <td>9.2</td>\n",
       "      <td>28.000000</td>\n",
       "      <td>0.0</td>\n",
       "      <td>5.468232</td>\n",
       "      <td>7.611178</td>\n",
       "      <td>NE</td>\n",
       "      <td>24.00000</td>\n",
       "      <td>SE</td>\n",
       "      <td>...</td>\n",
       "      <td>9.0</td>\n",
       "      <td>45.0</td>\n",
       "      <td>16.0</td>\n",
       "      <td>1017.6</td>\n",
       "      <td>1012.8</td>\n",
       "      <td>4.447461</td>\n",
       "      <td>4.50993</td>\n",
       "      <td>18.1</td>\n",
       "      <td>26.5</td>\n",
       "      <td>No</td>\n",
       "    </tr>\n",
       "    <tr>\n",
       "      <th>4</th>\n",
       "      <td>2008-12-05</td>\n",
       "      <td>Albury</td>\n",
       "      <td>17.5</td>\n",
       "      <td>32.300000</td>\n",
       "      <td>1.0</td>\n",
       "      <td>5.468232</td>\n",
       "      <td>7.611178</td>\n",
       "      <td>W</td>\n",
       "      <td>41.00000</td>\n",
       "      <td>ENE</td>\n",
       "      <td>...</td>\n",
       "      <td>20.0</td>\n",
       "      <td>82.0</td>\n",
       "      <td>33.0</td>\n",
       "      <td>1010.8</td>\n",
       "      <td>1006.0</td>\n",
       "      <td>7.000000</td>\n",
       "      <td>8.00000</td>\n",
       "      <td>17.8</td>\n",
       "      <td>29.7</td>\n",
       "      <td>No</td>\n",
       "    </tr>\n",
       "    <tr>\n",
       "      <th>...</th>\n",
       "      <td>...</td>\n",
       "      <td>...</td>\n",
       "      <td>...</td>\n",
       "      <td>...</td>\n",
       "      <td>...</td>\n",
       "      <td>...</td>\n",
       "      <td>...</td>\n",
       "      <td>...</td>\n",
       "      <td>...</td>\n",
       "      <td>...</td>\n",
       "      <td>...</td>\n",
       "      <td>...</td>\n",
       "      <td>...</td>\n",
       "      <td>...</td>\n",
       "      <td>...</td>\n",
       "      <td>...</td>\n",
       "      <td>...</td>\n",
       "      <td>...</td>\n",
       "      <td>...</td>\n",
       "      <td>...</td>\n",
       "      <td>...</td>\n",
       "    </tr>\n",
       "    <tr>\n",
       "      <th>145455</th>\n",
       "      <td>2017-06-21</td>\n",
       "      <td>Uluru</td>\n",
       "      <td>2.8</td>\n",
       "      <td>23.400000</td>\n",
       "      <td>0.0</td>\n",
       "      <td>5.468232</td>\n",
       "      <td>7.611178</td>\n",
       "      <td>E</td>\n",
       "      <td>31.00000</td>\n",
       "      <td>SE</td>\n",
       "      <td>...</td>\n",
       "      <td>11.0</td>\n",
       "      <td>51.0</td>\n",
       "      <td>24.0</td>\n",
       "      <td>1024.6</td>\n",
       "      <td>1020.3</td>\n",
       "      <td>4.447461</td>\n",
       "      <td>4.50993</td>\n",
       "      <td>10.1</td>\n",
       "      <td>22.4</td>\n",
       "      <td>No</td>\n",
       "    </tr>\n",
       "    <tr>\n",
       "      <th>145456</th>\n",
       "      <td>2017-06-22</td>\n",
       "      <td>Uluru</td>\n",
       "      <td>3.6</td>\n",
       "      <td>25.300000</td>\n",
       "      <td>0.0</td>\n",
       "      <td>5.468232</td>\n",
       "      <td>7.611178</td>\n",
       "      <td>NNW</td>\n",
       "      <td>22.00000</td>\n",
       "      <td>SE</td>\n",
       "      <td>...</td>\n",
       "      <td>9.0</td>\n",
       "      <td>56.0</td>\n",
       "      <td>21.0</td>\n",
       "      <td>1023.5</td>\n",
       "      <td>1019.1</td>\n",
       "      <td>4.447461</td>\n",
       "      <td>4.50993</td>\n",
       "      <td>10.9</td>\n",
       "      <td>24.5</td>\n",
       "      <td>No</td>\n",
       "    </tr>\n",
       "    <tr>\n",
       "      <th>145457</th>\n",
       "      <td>2017-06-23</td>\n",
       "      <td>Uluru</td>\n",
       "      <td>5.4</td>\n",
       "      <td>26.900000</td>\n",
       "      <td>0.0</td>\n",
       "      <td>5.468232</td>\n",
       "      <td>7.611178</td>\n",
       "      <td>N</td>\n",
       "      <td>37.00000</td>\n",
       "      <td>SE</td>\n",
       "      <td>...</td>\n",
       "      <td>9.0</td>\n",
       "      <td>53.0</td>\n",
       "      <td>24.0</td>\n",
       "      <td>1021.0</td>\n",
       "      <td>1016.8</td>\n",
       "      <td>4.447461</td>\n",
       "      <td>4.50993</td>\n",
       "      <td>12.5</td>\n",
       "      <td>26.1</td>\n",
       "      <td>No</td>\n",
       "    </tr>\n",
       "    <tr>\n",
       "      <th>145458</th>\n",
       "      <td>2017-06-24</td>\n",
       "      <td>Uluru</td>\n",
       "      <td>7.8</td>\n",
       "      <td>27.000000</td>\n",
       "      <td>0.0</td>\n",
       "      <td>5.468232</td>\n",
       "      <td>7.611178</td>\n",
       "      <td>SE</td>\n",
       "      <td>28.00000</td>\n",
       "      <td>SSE</td>\n",
       "      <td>...</td>\n",
       "      <td>7.0</td>\n",
       "      <td>51.0</td>\n",
       "      <td>24.0</td>\n",
       "      <td>1019.4</td>\n",
       "      <td>1016.5</td>\n",
       "      <td>3.000000</td>\n",
       "      <td>2.00000</td>\n",
       "      <td>15.1</td>\n",
       "      <td>26.0</td>\n",
       "      <td>No</td>\n",
       "    </tr>\n",
       "    <tr>\n",
       "      <th>145459</th>\n",
       "      <td>2017-06-25</td>\n",
       "      <td>Uluru</td>\n",
       "      <td>14.9</td>\n",
       "      <td>23.221348</td>\n",
       "      <td>0.0</td>\n",
       "      <td>5.468232</td>\n",
       "      <td>7.611178</td>\n",
       "      <td>W</td>\n",
       "      <td>40.03523</td>\n",
       "      <td>ESE</td>\n",
       "      <td>...</td>\n",
       "      <td>17.0</td>\n",
       "      <td>62.0</td>\n",
       "      <td>36.0</td>\n",
       "      <td>1020.2</td>\n",
       "      <td>1017.9</td>\n",
       "      <td>8.000000</td>\n",
       "      <td>8.00000</td>\n",
       "      <td>15.0</td>\n",
       "      <td>20.9</td>\n",
       "      <td>No</td>\n",
       "    </tr>\n",
       "  </tbody>\n",
       "</table>\n",
       "<p>145460 rows × 22 columns</p>\n",
       "</div>"
      ],
      "text/plain": [
       "              Date Location  MinTemp    MaxTemp  Rainfall  Evaporation  \\\n",
       "0       2008-12-01   Albury     13.4  22.900000       0.6     5.468232   \n",
       "1       2008-12-02   Albury      7.4  25.100000       0.0     5.468232   \n",
       "2       2008-12-03   Albury     12.9  25.700000       0.0     5.468232   \n",
       "3       2008-12-04   Albury      9.2  28.000000       0.0     5.468232   \n",
       "4       2008-12-05   Albury     17.5  32.300000       1.0     5.468232   \n",
       "...            ...      ...      ...        ...       ...          ...   \n",
       "145455  2017-06-21    Uluru      2.8  23.400000       0.0     5.468232   \n",
       "145456  2017-06-22    Uluru      3.6  25.300000       0.0     5.468232   \n",
       "145457  2017-06-23    Uluru      5.4  26.900000       0.0     5.468232   \n",
       "145458  2017-06-24    Uluru      7.8  27.000000       0.0     5.468232   \n",
       "145459  2017-06-25    Uluru     14.9  23.221348       0.0     5.468232   \n",
       "\n",
       "        Sunshine WindGustDir  WindGustSpeed WindDir9am  ... WindSpeed3pm  \\\n",
       "0       7.611178           W       44.00000          W  ...         24.0   \n",
       "1       7.611178         WNW       44.00000        NNW  ...         22.0   \n",
       "2       7.611178         WSW       46.00000          W  ...         26.0   \n",
       "3       7.611178          NE       24.00000         SE  ...          9.0   \n",
       "4       7.611178           W       41.00000        ENE  ...         20.0   \n",
       "...          ...         ...            ...        ...  ...          ...   \n",
       "145455  7.611178           E       31.00000         SE  ...         11.0   \n",
       "145456  7.611178         NNW       22.00000         SE  ...          9.0   \n",
       "145457  7.611178           N       37.00000         SE  ...          9.0   \n",
       "145458  7.611178          SE       28.00000        SSE  ...          7.0   \n",
       "145459  7.611178           W       40.03523        ESE  ...         17.0   \n",
       "\n",
       "        Humidity9am  Humidity3pm  Pressure9am  Pressure3pm  Cloud9am  \\\n",
       "0              71.0         22.0       1007.7       1007.1  8.000000   \n",
       "1              44.0         25.0       1010.6       1007.8  4.447461   \n",
       "2              38.0         30.0       1007.6       1008.7  4.447461   \n",
       "3              45.0         16.0       1017.6       1012.8  4.447461   \n",
       "4              82.0         33.0       1010.8       1006.0  7.000000   \n",
       "...             ...          ...          ...          ...       ...   \n",
       "145455         51.0         24.0       1024.6       1020.3  4.447461   \n",
       "145456         56.0         21.0       1023.5       1019.1  4.447461   \n",
       "145457         53.0         24.0       1021.0       1016.8  4.447461   \n",
       "145458         51.0         24.0       1019.4       1016.5  3.000000   \n",
       "145459         62.0         36.0       1020.2       1017.9  8.000000   \n",
       "\n",
       "        Cloud3pm  Temp9am  Temp3pm  RainToday  \n",
       "0        4.50993     16.9     21.8         No  \n",
       "1        4.50993     17.2     24.3         No  \n",
       "2        2.00000     21.0     23.2         No  \n",
       "3        4.50993     18.1     26.5         No  \n",
       "4        8.00000     17.8     29.7         No  \n",
       "...          ...      ...      ...        ...  \n",
       "145455   4.50993     10.1     22.4         No  \n",
       "145456   4.50993     10.9     24.5         No  \n",
       "145457   4.50993     12.5     26.1         No  \n",
       "145458   2.00000     15.1     26.0         No  \n",
       "145459   8.00000     15.0     20.9         No  \n",
       "\n",
       "[145460 rows x 22 columns]"
      ]
     },
     "execution_count": 6,
     "metadata": {},
     "output_type": "execute_result"
    }
   ],
   "source": [
    "X = df_weather[attributes]\n",
    "X\n",
    "\n"
   ]
  },
  {
   "cell_type": "code",
   "execution_count": 7,
   "metadata": {},
   "outputs": [
    {
     "name": "stderr",
     "output_type": "stream",
     "text": [
      "C:\\Users\\Gabriel\\AppData\\Local\\Temp/ipykernel_5752/228769230.py:5: SettingWithCopyWarning: \n",
      "A value is trying to be set on a copy of a slice from a DataFrame\n",
      "\n",
      "See the caveats in the documentation: https://pandas.pydata.org/pandas-docs/stable/user_guide/indexing.html#returning-a-view-versus-a-copy\n",
      "  y[y == 'No'] = 0\n",
      "C:\\Users\\Gabriel\\AppData\\Local\\Temp/ipykernel_5752/228769230.py:6: SettingWithCopyWarning: \n",
      "A value is trying to be set on a copy of a slice from a DataFrame\n",
      "\n",
      "See the caveats in the documentation: https://pandas.pydata.org/pandas-docs/stable/user_guide/indexing.html#returning-a-view-versus-a-copy\n",
      "  y[y == 'Yes'] = 1\n"
     ]
    },
    {
     "data": {
      "text/plain": [
       "0         0\n",
       "1         0\n",
       "2         0\n",
       "3         0\n",
       "4         0\n",
       "         ..\n",
       "145455    0\n",
       "145456    0\n",
       "145457    0\n",
       "145458    0\n",
       "145459    0\n",
       "Name: RainTomorrow, Length: 145460, dtype: int64"
      ]
     },
     "execution_count": 7,
     "metadata": {},
     "output_type": "execute_result"
    }
   ],
   "source": [
    "y = df_weather[target]\n",
    "y\n",
    "\n",
    "#Cambiamos los nos por 0 y los sies por 1\n",
    "y[y == 'No'] = 0\n",
    "y[y == 'Yes'] = 1\n",
    "\n",
    "y = pd.to_numeric(y, errors='coerce')\n",
    "y"
   ]
  },
  {
   "cell_type": "code",
   "execution_count": 8,
   "metadata": {},
   "outputs": [],
   "source": [
    "max_depth = 4\n",
    "min_samples_leaf = 10"
   ]
  },
  {
   "cell_type": "code",
   "execution_count": 9,
   "metadata": {},
   "outputs": [
    {
     "name": "stderr",
     "output_type": "stream",
     "text": [
      "E:\\Users\\Gabriel\\anaconda3\\lib\\site-packages\\pandas\\core\\frame.py:4308: SettingWithCopyWarning: \n",
      "A value is trying to be set on a copy of a slice from a DataFrame\n",
      "\n",
      "See the caveats in the documentation: https://pandas.pydata.org/pandas-docs/stable/user_guide/indexing.html#returning-a-view-versus-a-copy\n",
      "  return super().drop(\n"
     ]
    }
   ],
   "source": [
    "#No vamos a trabajar en este caso con las variables categóricas\n",
    "j = 0\n",
    "for i in range((X.shape[1])):\n",
    "\n",
    "    if type(X[(X.columns)[j]][0]) == str:\n",
    "        X.drop(X.columns[j], axis = 'columns', inplace=True)\n",
    "\n",
    "    else:\n",
    "        j += 1    \n"
   ]
  },
  {
   "cell_type": "code",
   "execution_count": 10,
   "metadata": {},
   "outputs": [
    {
     "data": {
      "text/plain": [
       "DecisionTreeClassifier(criterion='entropy', max_depth=4, min_samples_leaf=10)"
      ]
     },
     "execution_count": 10,
     "metadata": {},
     "output_type": "execute_result"
    }
   ],
   "source": [
    "arbol = tree.DecisionTreeClassifier(criterion='entropy', \n",
    "                                    max_depth=max_depth,\n",
    "                                    min_samples_leaf = min_samples_leaf)\n",
    "arbol.fit(X,y)"
   ]
  },
  {
   "cell_type": "code",
   "execution_count": 11,
   "metadata": {},
   "outputs": [
    {
     "data": {
      "text/plain": [
       "<sklearn.tree._tree.Tree at 0x1fba246fb90>"
      ]
     },
     "execution_count": 11,
     "metadata": {},
     "output_type": "execute_result"
    }
   ],
   "source": [
    "arbol.tree_"
   ]
  },
  {
   "cell_type": "code",
   "execution_count": 12,
   "metadata": {},
   "outputs": [
    {
     "data": {
      "image/svg+xml": "<?xml version=\"1.0\" encoding=\"UTF-8\" standalone=\"no\"?>\n<!DOCTYPE svg PUBLIC \"-//W3C//DTD SVG 1.1//EN\"\n \"http://www.w3.org/Graphics/SVG/1.1/DTD/svg11.dtd\">\n<!-- Generated by graphviz version 3.0.0 (20220226.1711)\n -->\n<!-- Title: Tree Pages: 1 -->\n<svg width=\"2602pt\" height=\"552pt\"\n viewBox=\"0.00 0.00 2602.00 552.00\" xmlns=\"http://www.w3.org/2000/svg\" xmlns:xlink=\"http://www.w3.org/1999/xlink\">\n<g id=\"graph0\" class=\"graph\" transform=\"scale(1 1) rotate(0) translate(4 548)\">\n<title>Tree</title>\n<polygon fill=\"white\" stroke=\"transparent\" points=\"-4,4 -4,-548 2598,-548 2598,4 -4,4\"/>\n<!-- 0 -->\n<g id=\"node1\" class=\"node\">\n<title>0</title>\n<path fill=\"#eca471\" stroke=\"black\" d=\"M1388.5,-544C1388.5,-544 1241.5,-544 1241.5,-544 1235.5,-544 1229.5,-538 1229.5,-532 1229.5,-532 1229.5,-473 1229.5,-473 1229.5,-467 1235.5,-461 1241.5,-461 1241.5,-461 1388.5,-461 1388.5,-461 1394.5,-461 1400.5,-467 1400.5,-473 1400.5,-473 1400.5,-532 1400.5,-532 1400.5,-538 1394.5,-544 1388.5,-544\"/>\n<text text-anchor=\"start\" x=\"1251.5\" y=\"-528.8\" font-family=\"Helvetica,sans-Serif\" font-size=\"14.00\">Humidity3pm ≤ 66.5</text>\n<text text-anchor=\"start\" x=\"1265\" y=\"-513.8\" font-family=\"Helvetica,sans-Serif\" font-size=\"14.00\">entropy = 0.759</text>\n<text text-anchor=\"start\" x=\"1255\" y=\"-498.8\" font-family=\"Helvetica,sans-Serif\" font-size=\"14.00\">samples = 145460</text>\n<text text-anchor=\"start\" x=\"1237.5\" y=\"-483.8\" font-family=\"Helvetica,sans-Serif\" font-size=\"14.00\">value = [113583, 31877]</text>\n<text text-anchor=\"start\" x=\"1284\" y=\"-468.8\" font-family=\"Helvetica,sans-Serif\" font-size=\"14.00\">class = Si</text>\n</g>\n<!-- 1 -->\n<g id=\"node2\" class=\"node\">\n<title>1</title>\n<path fill=\"#e99356\" stroke=\"black\" d=\"M1056.5,-425C1056.5,-425 917.5,-425 917.5,-425 911.5,-425 905.5,-419 905.5,-413 905.5,-413 905.5,-354 905.5,-354 905.5,-348 911.5,-342 917.5,-342 917.5,-342 1056.5,-342 1056.5,-342 1062.5,-342 1068.5,-348 1068.5,-354 1068.5,-354 1068.5,-413 1068.5,-413 1068.5,-419 1062.5,-425 1056.5,-425\"/>\n<text text-anchor=\"start\" x=\"919.5\" y=\"-409.8\" font-family=\"Helvetica,sans-Serif\" font-size=\"14.00\">Humidity3pm ≤ 51.27</text>\n<text text-anchor=\"start\" x=\"937\" y=\"-394.8\" font-family=\"Helvetica,sans-Serif\" font-size=\"14.00\">entropy = 0.547</text>\n<text text-anchor=\"start\" x=\"927\" y=\"-379.8\" font-family=\"Helvetica,sans-Serif\" font-size=\"14.00\">samples = 112088</text>\n<text text-anchor=\"start\" x=\"913.5\" y=\"-364.8\" font-family=\"Helvetica,sans-Serif\" font-size=\"14.00\">value = [97931, 14157]</text>\n<text text-anchor=\"start\" x=\"956\" y=\"-349.8\" font-family=\"Helvetica,sans-Serif\" font-size=\"14.00\">class = Si</text>\n</g>\n<!-- 0&#45;&gt;1 -->\n<g id=\"edge1\" class=\"edge\">\n<title>0&#45;&gt;1</title>\n<path fill=\"none\" stroke=\"black\" d=\"M1229.25,-470.91C1182.81,-454.35 1125.44,-433.88 1078.19,-417.03\"/>\n<polygon fill=\"black\" stroke=\"black\" points=\"1079.17,-413.66 1068.58,-413.6 1076.82,-420.26 1079.17,-413.66\"/>\n<text text-anchor=\"middle\" x=\"1079.29\" y=\"-432.49\" font-family=\"Helvetica,sans-Serif\" font-size=\"14.00\">True</text>\n</g>\n<!-- 16 -->\n<g id=\"node17\" class=\"node\">\n<title>16</title>\n<path fill=\"#e8f4fc\" stroke=\"black\" d=\"M1712.5,-425C1712.5,-425 1573.5,-425 1573.5,-425 1567.5,-425 1561.5,-419 1561.5,-413 1561.5,-413 1561.5,-354 1561.5,-354 1561.5,-348 1567.5,-342 1573.5,-342 1573.5,-342 1712.5,-342 1712.5,-342 1718.5,-342 1724.5,-348 1724.5,-354 1724.5,-354 1724.5,-413 1724.5,-413 1724.5,-419 1718.5,-425 1712.5,-425\"/>\n<text text-anchor=\"start\" x=\"1579.5\" y=\"-409.8\" font-family=\"Helvetica,sans-Serif\" font-size=\"14.00\">Humidity3pm ≤ 81.5</text>\n<text text-anchor=\"start\" x=\"1593\" y=\"-394.8\" font-family=\"Helvetica,sans-Serif\" font-size=\"14.00\">entropy = 0.997</text>\n<text text-anchor=\"start\" x=\"1587\" y=\"-379.8\" font-family=\"Helvetica,sans-Serif\" font-size=\"14.00\">samples = 33372</text>\n<text text-anchor=\"start\" x=\"1569.5\" y=\"-364.8\" font-family=\"Helvetica,sans-Serif\" font-size=\"14.00\">value = [15652, 17720]</text>\n<text text-anchor=\"start\" x=\"1609.5\" y=\"-349.8\" font-family=\"Helvetica,sans-Serif\" font-size=\"14.00\">class = No</text>\n</g>\n<!-- 0&#45;&gt;16 -->\n<g id=\"edge16\" class=\"edge\">\n<title>0&#45;&gt;16</title>\n<path fill=\"none\" stroke=\"black\" d=\"M1400.75,-470.91C1447.19,-454.35 1504.56,-433.88 1551.81,-417.03\"/>\n<polygon fill=\"black\" stroke=\"black\" points=\"1553.18,-420.26 1561.42,-413.6 1550.83,-413.66 1553.18,-420.26\"/>\n<text text-anchor=\"middle\" x=\"1550.71\" y=\"-432.49\" font-family=\"Helvetica,sans-Serif\" font-size=\"14.00\">False</text>\n</g>\n<!-- 2 -->\n<g id=\"node3\" class=\"node\">\n<title>2</title>\n<path fill=\"#e78c4a\" stroke=\"black\" d=\"M559.5,-306C559.5,-306 428.5,-306 428.5,-306 422.5,-306 416.5,-300 416.5,-294 416.5,-294 416.5,-235 416.5,-235 416.5,-229 422.5,-223 428.5,-223 428.5,-223 559.5,-223 559.5,-223 565.5,-223 571.5,-229 571.5,-235 571.5,-235 571.5,-294 571.5,-294 571.5,-300 565.5,-306 559.5,-306\"/>\n<text text-anchor=\"start\" x=\"438.5\" y=\"-290.8\" font-family=\"Helvetica,sans-Serif\" font-size=\"14.00\">Sunshine ≤ 7.606</text>\n<text text-anchor=\"start\" x=\"444\" y=\"-275.8\" font-family=\"Helvetica,sans-Serif\" font-size=\"14.00\">entropy = 0.399</text>\n<text text-anchor=\"start\" x=\"438\" y=\"-260.8\" font-family=\"Helvetica,sans-Serif\" font-size=\"14.00\">samples = 69164</text>\n<text text-anchor=\"start\" x=\"424.5\" y=\"-245.8\" font-family=\"Helvetica,sans-Serif\" font-size=\"14.00\">value = [63698, 5466]</text>\n<text text-anchor=\"start\" x=\"463\" y=\"-230.8\" font-family=\"Helvetica,sans-Serif\" font-size=\"14.00\">class = Si</text>\n</g>\n<!-- 1&#45;&gt;2 -->\n<g id=\"edge2\" class=\"edge\">\n<title>1&#45;&gt;2</title>\n<path fill=\"none\" stroke=\"black\" d=\"M905.31,-363.11C815.94,-341.9 673.22,-308.03 581.58,-286.29\"/>\n<polygon fill=\"black\" stroke=\"black\" points=\"582.31,-282.86 571.77,-283.96 580.7,-289.67 582.31,-282.86\"/>\n</g>\n<!-- 9 -->\n<g id=\"node10\" class=\"node\">\n<title>9</title>\n<path fill=\"#eca16b\" stroke=\"black\" d=\"M1058,-306C1058,-306 916,-306 916,-306 910,-306 904,-300 904,-294 904,-294 904,-235 904,-235 904,-229 910,-223 916,-223 916,-223 1058,-223 1058,-223 1064,-223 1070,-229 1070,-235 1070,-235 1070,-294 1070,-294 1070,-300 1064,-306 1058,-306\"/>\n<text text-anchor=\"start\" x=\"912\" y=\"-290.8\" font-family=\"Helvetica,sans-Serif\" font-size=\"14.00\">WindGustSpeed ≤ 47.0</text>\n<text text-anchor=\"start\" x=\"937\" y=\"-275.8\" font-family=\"Helvetica,sans-Serif\" font-size=\"14.00\">entropy = 0.727</text>\n<text text-anchor=\"start\" x=\"931\" y=\"-260.8\" font-family=\"Helvetica,sans-Serif\" font-size=\"14.00\">samples = 42924</text>\n<text text-anchor=\"start\" x=\"917.5\" y=\"-245.8\" font-family=\"Helvetica,sans-Serif\" font-size=\"14.00\">value = [34233, 8691]</text>\n<text text-anchor=\"start\" x=\"956\" y=\"-230.8\" font-family=\"Helvetica,sans-Serif\" font-size=\"14.00\">class = Si</text>\n</g>\n<!-- 1&#45;&gt;9 -->\n<g id=\"edge9\" class=\"edge\">\n<title>1&#45;&gt;9</title>\n<path fill=\"none\" stroke=\"black\" d=\"M987,-341.91C987,-333.65 987,-324.86 987,-316.3\"/>\n<polygon fill=\"black\" stroke=\"black\" points=\"990.5,-316.02 987,-306.02 983.5,-316.02 990.5,-316.02\"/>\n</g>\n<!-- 3 -->\n<g id=\"node4\" class=\"node\">\n<title>3</title>\n<path fill=\"#eca571\" stroke=\"black\" d=\"M306.5,-187C306.5,-187 159.5,-187 159.5,-187 153.5,-187 147.5,-181 147.5,-175 147.5,-175 147.5,-116 147.5,-116 147.5,-110 153.5,-104 159.5,-104 159.5,-104 306.5,-104 306.5,-104 312.5,-104 318.5,-110 318.5,-116 318.5,-116 318.5,-175 318.5,-175 318.5,-181 312.5,-187 306.5,-187\"/>\n<text text-anchor=\"start\" x=\"155.5\" y=\"-171.8\" font-family=\"Helvetica,sans-Serif\" font-size=\"14.00\">Pressure3pm ≤ 1015.05</text>\n<text text-anchor=\"start\" x=\"187\" y=\"-156.8\" font-family=\"Helvetica,sans-Serif\" font-size=\"14.00\">entropy = 0.76</text>\n<text text-anchor=\"start\" x=\"181.5\" y=\"-141.8\" font-family=\"Helvetica,sans-Serif\" font-size=\"14.00\">samples = 7855</text>\n<text text-anchor=\"start\" x=\"168\" y=\"-126.8\" font-family=\"Helvetica,sans-Serif\" font-size=\"14.00\">value = [6127, 1728]</text>\n<text text-anchor=\"start\" x=\"202\" y=\"-111.8\" font-family=\"Helvetica,sans-Serif\" font-size=\"14.00\">class = Si</text>\n</g>\n<!-- 2&#45;&gt;3 -->\n<g id=\"edge3\" class=\"edge\">\n<title>2&#45;&gt;3</title>\n<path fill=\"none\" stroke=\"black\" d=\"M416.4,-228.71C388.6,-216.25 356.95,-202.06 327.86,-189.02\"/>\n<polygon fill=\"black\" stroke=\"black\" points=\"329.07,-185.73 318.51,-184.83 326.21,-192.12 329.07,-185.73\"/>\n</g>\n<!-- 6 -->\n<g id=\"node7\" class=\"node\">\n<title>6</title>\n<path fill=\"#e78946\" stroke=\"black\" d=\"M565,-187C565,-187 423,-187 423,-187 417,-187 411,-181 411,-175 411,-175 411,-116 411,-116 411,-110 417,-104 423,-104 423,-104 565,-104 565,-104 571,-104 577,-110 577,-116 577,-116 577,-175 577,-175 577,-181 571,-187 565,-187\"/>\n<text text-anchor=\"start\" x=\"419\" y=\"-171.8\" font-family=\"Helvetica,sans-Serif\" font-size=\"14.00\">WindGustSpeed ≤ 53.0</text>\n<text text-anchor=\"start\" x=\"444\" y=\"-156.8\" font-family=\"Helvetica,sans-Serif\" font-size=\"14.00\">entropy = 0.331</text>\n<text text-anchor=\"start\" x=\"438\" y=\"-141.8\" font-family=\"Helvetica,sans-Serif\" font-size=\"14.00\">samples = 61309</text>\n<text text-anchor=\"start\" x=\"424.5\" y=\"-126.8\" font-family=\"Helvetica,sans-Serif\" font-size=\"14.00\">value = [57571, 3738]</text>\n<text text-anchor=\"start\" x=\"463\" y=\"-111.8\" font-family=\"Helvetica,sans-Serif\" font-size=\"14.00\">class = Si</text>\n</g>\n<!-- 2&#45;&gt;6 -->\n<g id=\"edge6\" class=\"edge\">\n<title>2&#45;&gt;6</title>\n<path fill=\"none\" stroke=\"black\" d=\"M494,-222.91C494,-214.65 494,-205.86 494,-197.3\"/>\n<polygon fill=\"black\" stroke=\"black\" points=\"497.5,-197.02 494,-187.02 490.5,-197.02 497.5,-197.02\"/>\n</g>\n<!-- 4 -->\n<g id=\"node5\" class=\"node\">\n<title>4</title>\n<path fill=\"#f1bc95\" stroke=\"black\" d=\"M134,-68C134,-68 12,-68 12,-68 6,-68 0,-62 0,-56 0,-56 0,-12 0,-12 0,-6 6,0 12,0 12,0 134,0 134,0 140,0 146,-6 146,-12 146,-12 146,-56 146,-56 146,-62 140,-68 134,-68\"/>\n<text text-anchor=\"start\" x=\"23\" y=\"-52.8\" font-family=\"Helvetica,sans-Serif\" font-size=\"14.00\">entropy = 0.901</text>\n<text text-anchor=\"start\" x=\"21.5\" y=\"-37.8\" font-family=\"Helvetica,sans-Serif\" font-size=\"14.00\">samples = 4101</text>\n<text text-anchor=\"start\" x=\"8\" y=\"-22.8\" font-family=\"Helvetica,sans-Serif\" font-size=\"14.00\">value = [2800, 1301]</text>\n<text text-anchor=\"start\" x=\"42\" y=\"-7.8\" font-family=\"Helvetica,sans-Serif\" font-size=\"14.00\">class = Si</text>\n</g>\n<!-- 3&#45;&gt;4 -->\n<g id=\"edge4\" class=\"edge\">\n<title>3&#45;&gt;4</title>\n<path fill=\"none\" stroke=\"black\" d=\"M173.42,-103.73C159.22,-94.01 144.1,-83.66 130.02,-74.02\"/>\n<polygon fill=\"black\" stroke=\"black\" points=\"131.63,-70.88 121.4,-68.13 127.68,-76.66 131.63,-70.88\"/>\n</g>\n<!-- 5 -->\n<g id=\"node6\" class=\"node\">\n<title>5</title>\n<path fill=\"#e89152\" stroke=\"black\" d=\"M290,-68C290,-68 176,-68 176,-68 170,-68 164,-62 164,-56 164,-56 164,-12 164,-12 164,-6 170,0 176,0 176,0 290,0 290,0 296,0 302,-6 302,-12 302,-12 302,-56 302,-56 302,-62 296,-68 290,-68\"/>\n<text text-anchor=\"start\" x=\"183\" y=\"-52.8\" font-family=\"Helvetica,sans-Serif\" font-size=\"14.00\">entropy = 0.511</text>\n<text text-anchor=\"start\" x=\"181.5\" y=\"-37.8\" font-family=\"Helvetica,sans-Serif\" font-size=\"14.00\">samples = 3754</text>\n<text text-anchor=\"start\" x=\"172\" y=\"-22.8\" font-family=\"Helvetica,sans-Serif\" font-size=\"14.00\">value = [3327, 427]</text>\n<text text-anchor=\"start\" x=\"202\" y=\"-7.8\" font-family=\"Helvetica,sans-Serif\" font-size=\"14.00\">class = Si</text>\n</g>\n<!-- 3&#45;&gt;5 -->\n<g id=\"edge5\" class=\"edge\">\n<title>3&#45;&gt;5</title>\n<path fill=\"none\" stroke=\"black\" d=\"M233,-103.73C233,-95.52 233,-86.86 233,-78.56\"/>\n<polygon fill=\"black\" stroke=\"black\" points=\"236.5,-78.3 233,-68.3 229.5,-78.3 236.5,-78.3\"/>\n</g>\n<!-- 7 -->\n<g id=\"node8\" class=\"node\">\n<title>7</title>\n<path fill=\"#e68743\" stroke=\"black\" d=\"M463.5,-68C463.5,-68 332.5,-68 332.5,-68 326.5,-68 320.5,-62 320.5,-56 320.5,-56 320.5,-12 320.5,-12 320.5,-6 326.5,0 332.5,0 332.5,0 463.5,0 463.5,0 469.5,0 475.5,-6 475.5,-12 475.5,-12 475.5,-56 475.5,-56 475.5,-62 469.5,-68 463.5,-68\"/>\n<text text-anchor=\"start\" x=\"348\" y=\"-52.8\" font-family=\"Helvetica,sans-Serif\" font-size=\"14.00\">entropy = 0.273</text>\n<text text-anchor=\"start\" x=\"342\" y=\"-37.8\" font-family=\"Helvetica,sans-Serif\" font-size=\"14.00\">samples = 53223</text>\n<text text-anchor=\"start\" x=\"328.5\" y=\"-22.8\" font-family=\"Helvetica,sans-Serif\" font-size=\"14.00\">value = [50722, 2501]</text>\n<text text-anchor=\"start\" x=\"367\" y=\"-7.8\" font-family=\"Helvetica,sans-Serif\" font-size=\"14.00\">class = Si</text>\n</g>\n<!-- 6&#45;&gt;7 -->\n<g id=\"edge7\" class=\"edge\">\n<title>6&#45;&gt;7</title>\n<path fill=\"none\" stroke=\"black\" d=\"M458.25,-103.73C450.34,-94.7 441.94,-85.12 434.02,-76.08\"/>\n<polygon fill=\"black\" stroke=\"black\" points=\"436.42,-73.51 427.19,-68.3 431.15,-78.13 436.42,-73.51\"/>\n</g>\n<!-- 8 -->\n<g id=\"node9\" class=\"node\">\n<title>8</title>\n<path fill=\"#ea985d\" stroke=\"black\" d=\"M628,-68C628,-68 506,-68 506,-68 500,-68 494,-62 494,-56 494,-56 494,-12 494,-12 494,-6 500,0 506,0 506,0 628,0 628,0 634,0 640,-6 640,-12 640,-12 640,-56 640,-56 640,-62 634,-68 628,-68\"/>\n<text text-anchor=\"start\" x=\"517\" y=\"-52.8\" font-family=\"Helvetica,sans-Serif\" font-size=\"14.00\">entropy = 0.617</text>\n<text text-anchor=\"start\" x=\"515.5\" y=\"-37.8\" font-family=\"Helvetica,sans-Serif\" font-size=\"14.00\">samples = 8086</text>\n<text text-anchor=\"start\" x=\"502\" y=\"-22.8\" font-family=\"Helvetica,sans-Serif\" font-size=\"14.00\">value = [6849, 1237]</text>\n<text text-anchor=\"start\" x=\"536\" y=\"-7.8\" font-family=\"Helvetica,sans-Serif\" font-size=\"14.00\">class = Si</text>\n</g>\n<!-- 6&#45;&gt;8 -->\n<g id=\"edge8\" class=\"edge\">\n<title>6&#45;&gt;8</title>\n<path fill=\"none\" stroke=\"black\" d=\"M521.18,-103.73C527.08,-94.88 533.33,-85.51 539.25,-76.63\"/>\n<polygon fill=\"black\" stroke=\"black\" points=\"542.17,-78.56 544.8,-68.3 536.34,-74.68 542.17,-78.56\"/>\n</g>\n<!-- 10 -->\n<g id=\"node11\" class=\"node\">\n<title>10</title>\n<path fill=\"#ea995e\" stroke=\"black\" d=\"M962.5,-187C962.5,-187 831.5,-187 831.5,-187 825.5,-187 819.5,-181 819.5,-175 819.5,-175 819.5,-116 819.5,-116 819.5,-110 825.5,-104 831.5,-104 831.5,-104 962.5,-104 962.5,-104 968.5,-104 974.5,-110 974.5,-116 974.5,-116 974.5,-175 974.5,-175 974.5,-181 968.5,-187 962.5,-187\"/>\n<text text-anchor=\"start\" x=\"851.5\" y=\"-171.8\" font-family=\"Helvetica,sans-Serif\" font-size=\"14.00\">Rainfall ≤ 2.95</text>\n<text text-anchor=\"start\" x=\"847\" y=\"-156.8\" font-family=\"Helvetica,sans-Serif\" font-size=\"14.00\">entropy = 0.632</text>\n<text text-anchor=\"start\" x=\"841\" y=\"-141.8\" font-family=\"Helvetica,sans-Serif\" font-size=\"14.00\">samples = 34560</text>\n<text text-anchor=\"start\" x=\"827.5\" y=\"-126.8\" font-family=\"Helvetica,sans-Serif\" font-size=\"14.00\">value = [29059, 5501]</text>\n<text text-anchor=\"start\" x=\"866\" y=\"-111.8\" font-family=\"Helvetica,sans-Serif\" font-size=\"14.00\">class = Si</text>\n</g>\n<!-- 9&#45;&gt;10 -->\n<g id=\"edge10\" class=\"edge\">\n<title>9&#45;&gt;10</title>\n<path fill=\"none\" stroke=\"black\" d=\"M955.77,-222.91C948.86,-213.92 941.47,-204.32 934.35,-195.05\"/>\n<polygon fill=\"black\" stroke=\"black\" points=\"937.04,-192.81 928.17,-187.02 931.49,-197.08 937.04,-192.81\"/>\n</g>\n<!-- 13 -->\n<g id=\"node14\" class=\"node\">\n<title>13</title>\n<path fill=\"#f5cfb3\" stroke=\"black\" d=\"M1151.5,-187C1151.5,-187 1004.5,-187 1004.5,-187 998.5,-187 992.5,-181 992.5,-175 992.5,-175 992.5,-116 992.5,-116 992.5,-110 998.5,-104 1004.5,-104 1004.5,-104 1151.5,-104 1151.5,-104 1157.5,-104 1163.5,-110 1163.5,-116 1163.5,-116 1163.5,-175 1163.5,-175 1163.5,-181 1157.5,-187 1151.5,-187\"/>\n<text text-anchor=\"start\" x=\"1000.5\" y=\"-171.8\" font-family=\"Helvetica,sans-Serif\" font-size=\"14.00\">Pressure3pm ≤ 1011.25</text>\n<text text-anchor=\"start\" x=\"1028\" y=\"-156.8\" font-family=\"Helvetica,sans-Serif\" font-size=\"14.00\">entropy = 0.959</text>\n<text text-anchor=\"start\" x=\"1026.5\" y=\"-141.8\" font-family=\"Helvetica,sans-Serif\" font-size=\"14.00\">samples = 8364</text>\n<text text-anchor=\"start\" x=\"1013\" y=\"-126.8\" font-family=\"Helvetica,sans-Serif\" font-size=\"14.00\">value = [5174, 3190]</text>\n<text text-anchor=\"start\" x=\"1047\" y=\"-111.8\" font-family=\"Helvetica,sans-Serif\" font-size=\"14.00\">class = Si</text>\n</g>\n<!-- 9&#45;&gt;13 -->\n<g id=\"edge13\" class=\"edge\">\n<title>9&#45;&gt;13</title>\n<path fill=\"none\" stroke=\"black\" d=\"M1018.57,-222.91C1025.56,-213.92 1033.03,-204.32 1040.24,-195.05\"/>\n<polygon fill=\"black\" stroke=\"black\" points=\"1043.11,-197.06 1046.48,-187.02 1037.58,-192.77 1043.11,-197.06\"/>\n</g>\n<!-- 11 -->\n<g id=\"node12\" class=\"node\">\n<title>11</title>\n<path fill=\"#e99558\" stroke=\"black\" d=\"M801.5,-68C801.5,-68 670.5,-68 670.5,-68 664.5,-68 658.5,-62 658.5,-56 658.5,-56 658.5,-12 658.5,-12 658.5,-6 664.5,0 670.5,0 670.5,0 801.5,0 801.5,0 807.5,0 813.5,-6 813.5,-12 813.5,-12 813.5,-56 813.5,-56 813.5,-62 807.5,-68 801.5,-68\"/>\n<text text-anchor=\"start\" x=\"686\" y=\"-52.8\" font-family=\"Helvetica,sans-Serif\" font-size=\"14.00\">entropy = 0.576</text>\n<text text-anchor=\"start\" x=\"680\" y=\"-37.8\" font-family=\"Helvetica,sans-Serif\" font-size=\"14.00\">samples = 29855</text>\n<text text-anchor=\"start\" x=\"666.5\" y=\"-22.8\" font-family=\"Helvetica,sans-Serif\" font-size=\"14.00\">value = [25774, 4081]</text>\n<text text-anchor=\"start\" x=\"705\" y=\"-7.8\" font-family=\"Helvetica,sans-Serif\" font-size=\"14.00\">class = Si</text>\n</g>\n<!-- 10&#45;&gt;11 -->\n<g id=\"edge11\" class=\"edge\">\n<title>10&#45;&gt;11</title>\n<path fill=\"none\" stroke=\"black\" d=\"M837.05,-103.73C822.63,-93.92 807.26,-83.46 792.97,-73.75\"/>\n<polygon fill=\"black\" stroke=\"black\" points=\"794.94,-70.85 784.7,-68.13 791.01,-76.64 794.94,-70.85\"/>\n</g>\n<!-- 12 -->\n<g id=\"node13\" class=\"node\">\n<title>12</title>\n<path fill=\"#f0b78f\" stroke=\"black\" d=\"M966,-68C966,-68 844,-68 844,-68 838,-68 832,-62 832,-56 832,-56 832,-12 832,-12 832,-6 838,0 844,0 844,0 966,0 966,0 972,0 978,-6 978,-12 978,-12 978,-56 978,-56 978,-62 972,-68 966,-68\"/>\n<text text-anchor=\"start\" x=\"855\" y=\"-52.8\" font-family=\"Helvetica,sans-Serif\" font-size=\"14.00\">entropy = 0.883</text>\n<text text-anchor=\"start\" x=\"853.5\" y=\"-37.8\" font-family=\"Helvetica,sans-Serif\" font-size=\"14.00\">samples = 4705</text>\n<text text-anchor=\"start\" x=\"840\" y=\"-22.8\" font-family=\"Helvetica,sans-Serif\" font-size=\"14.00\">value = [3285, 1420]</text>\n<text text-anchor=\"start\" x=\"874\" y=\"-7.8\" font-family=\"Helvetica,sans-Serif\" font-size=\"14.00\">class = Si</text>\n</g>\n<!-- 10&#45;&gt;12 -->\n<g id=\"edge12\" class=\"edge\">\n<title>10&#45;&gt;12</title>\n<path fill=\"none\" stroke=\"black\" d=\"M899.98,-103.73C900.59,-95.43 901.23,-86.67 901.84,-78.28\"/>\n<polygon fill=\"black\" stroke=\"black\" points=\"905.33,-78.53 902.57,-68.3 898.35,-78.02 905.33,-78.53\"/>\n</g>\n<!-- 14 -->\n<g id=\"node15\" class=\"node\">\n<title>14</title>\n<path fill=\"#e0effb\" stroke=\"black\" d=\"M1130,-68C1130,-68 1008,-68 1008,-68 1002,-68 996,-62 996,-56 996,-56 996,-12 996,-12 996,-6 1002,0 1008,0 1008,0 1130,0 1130,0 1136,0 1142,-6 1142,-12 1142,-12 1142,-56 1142,-56 1142,-62 1136,-68 1130,-68\"/>\n<text text-anchor=\"start\" x=\"1019\" y=\"-52.8\" font-family=\"Helvetica,sans-Serif\" font-size=\"14.00\">entropy = 0.995</text>\n<text text-anchor=\"start\" x=\"1017.5\" y=\"-37.8\" font-family=\"Helvetica,sans-Serif\" font-size=\"14.00\">samples = 3018</text>\n<text text-anchor=\"start\" x=\"1004\" y=\"-22.8\" font-family=\"Helvetica,sans-Serif\" font-size=\"14.00\">value = [1379, 1639]</text>\n<text text-anchor=\"start\" x=\"1035.5\" y=\"-7.8\" font-family=\"Helvetica,sans-Serif\" font-size=\"14.00\">class = No</text>\n</g>\n<!-- 13&#45;&gt;14 -->\n<g id=\"edge14\" class=\"edge\">\n<title>13&#45;&gt;14</title>\n<path fill=\"none\" stroke=\"black\" d=\"M1074.65,-103.73C1073.97,-95.43 1073.25,-86.67 1072.56,-78.28\"/>\n<polygon fill=\"black\" stroke=\"black\" points=\"1076.04,-77.98 1071.74,-68.3 1069.07,-78.55 1076.04,-77.98\"/>\n</g>\n<!-- 15 -->\n<g id=\"node16\" class=\"node\">\n<title>15</title>\n<path fill=\"#f0b48a\" stroke=\"black\" d=\"M1294,-68C1294,-68 1172,-68 1172,-68 1166,-68 1160,-62 1160,-56 1160,-56 1160,-12 1160,-12 1160,-6 1166,0 1172,0 1172,0 1294,0 1294,0 1300,0 1306,-6 1306,-12 1306,-12 1306,-56 1306,-56 1306,-62 1300,-68 1294,-68\"/>\n<text text-anchor=\"start\" x=\"1183\" y=\"-52.8\" font-family=\"Helvetica,sans-Serif\" font-size=\"14.00\">entropy = 0.869</text>\n<text text-anchor=\"start\" x=\"1181.5\" y=\"-37.8\" font-family=\"Helvetica,sans-Serif\" font-size=\"14.00\">samples = 5346</text>\n<text text-anchor=\"start\" x=\"1168\" y=\"-22.8\" font-family=\"Helvetica,sans-Serif\" font-size=\"14.00\">value = [3795, 1551]</text>\n<text text-anchor=\"start\" x=\"1202\" y=\"-7.8\" font-family=\"Helvetica,sans-Serif\" font-size=\"14.00\">class = Si</text>\n</g>\n<!-- 13&#45;&gt;15 -->\n<g id=\"edge15\" class=\"edge\">\n<title>13&#45;&gt;15</title>\n<path fill=\"none\" stroke=\"black\" d=\"M1135.72,-103.73C1149.4,-94.06 1163.97,-83.77 1177.55,-74.17\"/>\n<polygon fill=\"black\" stroke=\"black\" points=\"1179.72,-76.93 1185.86,-68.3 1175.68,-71.21 1179.72,-76.93\"/>\n</g>\n<!-- 17 -->\n<g id=\"node18\" class=\"node\">\n<title>17</title>\n<path fill=\"#f7d6be\" stroke=\"black\" d=\"M1714,-306C1714,-306 1572,-306 1572,-306 1566,-306 1560,-300 1560,-294 1560,-294 1560,-235 1560,-235 1560,-229 1566,-223 1572,-223 1572,-223 1714,-223 1714,-223 1720,-223 1726,-229 1726,-235 1726,-235 1726,-294 1726,-294 1726,-300 1720,-306 1714,-306\"/>\n<text text-anchor=\"start\" x=\"1568\" y=\"-290.8\" font-family=\"Helvetica,sans-Serif\" font-size=\"14.00\">WindGustSpeed ≤ 42.0</text>\n<text text-anchor=\"start\" x=\"1593\" y=\"-275.8\" font-family=\"Helvetica,sans-Serif\" font-size=\"14.00\">entropy = 0.972</text>\n<text text-anchor=\"start\" x=\"1587\" y=\"-260.8\" font-family=\"Helvetica,sans-Serif\" font-size=\"14.00\">samples = 21647</text>\n<text text-anchor=\"start\" x=\"1573.5\" y=\"-245.8\" font-family=\"Helvetica,sans-Serif\" font-size=\"14.00\">value = [12934, 8713]</text>\n<text text-anchor=\"start\" x=\"1612\" y=\"-230.8\" font-family=\"Helvetica,sans-Serif\" font-size=\"14.00\">class = Si</text>\n</g>\n<!-- 16&#45;&gt;17 -->\n<g id=\"edge17\" class=\"edge\">\n<title>16&#45;&gt;17</title>\n<path fill=\"none\" stroke=\"black\" d=\"M1643,-341.91C1643,-333.65 1643,-324.86 1643,-316.3\"/>\n<polygon fill=\"black\" stroke=\"black\" points=\"1646.5,-316.02 1643,-306.02 1639.5,-316.02 1646.5,-316.02\"/>\n</g>\n<!-- 24 -->\n<g id=\"node25\" class=\"node\">\n<title>24</title>\n<path fill=\"#75bbed\" stroke=\"black\" d=\"M2175,-306C2175,-306 2053,-306 2053,-306 2047,-306 2041,-300 2041,-294 2041,-294 2041,-235 2041,-235 2041,-229 2047,-223 2053,-223 2053,-223 2175,-223 2175,-223 2181,-223 2187,-229 2187,-235 2187,-235 2187,-294 2187,-294 2187,-300 2181,-306 2175,-306\"/>\n<text text-anchor=\"start\" x=\"2068.5\" y=\"-290.8\" font-family=\"Helvetica,sans-Serif\" font-size=\"14.00\">Rainfall ≤ 2.38</text>\n<text text-anchor=\"start\" x=\"2064\" y=\"-275.8\" font-family=\"Helvetica,sans-Serif\" font-size=\"14.00\">entropy = 0.781</text>\n<text text-anchor=\"start\" x=\"2058\" y=\"-260.8\" font-family=\"Helvetica,sans-Serif\" font-size=\"14.00\">samples = 11725</text>\n<text text-anchor=\"start\" x=\"2049\" y=\"-245.8\" font-family=\"Helvetica,sans-Serif\" font-size=\"14.00\">value = [2718, 9007]</text>\n<text text-anchor=\"start\" x=\"2080.5\" y=\"-230.8\" font-family=\"Helvetica,sans-Serif\" font-size=\"14.00\">class = No</text>\n</g>\n<!-- 16&#45;&gt;24 -->\n<g id=\"edge24\" class=\"edge\">\n<title>16&#45;&gt;24</title>\n<path fill=\"none\" stroke=\"black\" d=\"M1724.5,-362.25C1810.32,-340.94 1944.72,-307.55 2031.07,-286.1\"/>\n<polygon fill=\"black\" stroke=\"black\" points=\"2031.98,-289.48 2040.84,-283.67 2030.29,-282.69 2031.98,-289.48\"/>\n</g>\n<!-- 18 -->\n<g id=\"node19\" class=\"node\">\n<title>18</title>\n<path fill=\"#f1bb94\" stroke=\"black\" d=\"M1622,-187C1622,-187 1500,-187 1500,-187 1494,-187 1488,-181 1488,-175 1488,-175 1488,-116 1488,-116 1488,-110 1494,-104 1500,-104 1500,-104 1622,-104 1622,-104 1628,-104 1634,-110 1634,-116 1634,-116 1634,-175 1634,-175 1634,-181 1628,-187 1622,-187\"/>\n<text text-anchor=\"start\" x=\"1515.5\" y=\"-171.8\" font-family=\"Helvetica,sans-Serif\" font-size=\"14.00\">Rainfall ≤ 2.38</text>\n<text text-anchor=\"start\" x=\"1511\" y=\"-156.8\" font-family=\"Helvetica,sans-Serif\" font-size=\"14.00\">entropy = 0.898</text>\n<text text-anchor=\"start\" x=\"1505\" y=\"-141.8\" font-family=\"Helvetica,sans-Serif\" font-size=\"14.00\">samples = 13681</text>\n<text text-anchor=\"start\" x=\"1496\" y=\"-126.8\" font-family=\"Helvetica,sans-Serif\" font-size=\"14.00\">value = [9378, 4303]</text>\n<text text-anchor=\"start\" x=\"1530\" y=\"-111.8\" font-family=\"Helvetica,sans-Serif\" font-size=\"14.00\">class = Si</text>\n</g>\n<!-- 17&#45;&gt;18 -->\n<g id=\"edge18\" class=\"edge\">\n<title>17&#45;&gt;18</title>\n<path fill=\"none\" stroke=\"black\" d=\"M1614.55,-222.91C1608.32,-214.01 1601.66,-204.51 1595.22,-195.33\"/>\n<polygon fill=\"black\" stroke=\"black\" points=\"1598,-193.2 1589.4,-187.02 1592.27,-197.22 1598,-193.2\"/>\n</g>\n<!-- 21 -->\n<g id=\"node22\" class=\"node\">\n<title>21</title>\n<path fill=\"#d9ecfa\" stroke=\"black\" d=\"M1786,-187C1786,-187 1664,-187 1664,-187 1658,-187 1652,-181 1652,-175 1652,-175 1652,-116 1652,-116 1652,-110 1658,-104 1664,-104 1664,-104 1786,-104 1786,-104 1792,-104 1798,-110 1798,-116 1798,-116 1798,-175 1798,-175 1798,-181 1792,-187 1786,-187\"/>\n<text text-anchor=\"start\" x=\"1679.5\" y=\"-171.8\" font-family=\"Helvetica,sans-Serif\" font-size=\"14.00\">Rainfall ≤ 0.25</text>\n<text text-anchor=\"start\" x=\"1675\" y=\"-156.8\" font-family=\"Helvetica,sans-Serif\" font-size=\"14.00\">entropy = 0.992</text>\n<text text-anchor=\"start\" x=\"1673.5\" y=\"-141.8\" font-family=\"Helvetica,sans-Serif\" font-size=\"14.00\">samples = 7966</text>\n<text text-anchor=\"start\" x=\"1660\" y=\"-126.8\" font-family=\"Helvetica,sans-Serif\" font-size=\"14.00\">value = [3556, 4410]</text>\n<text text-anchor=\"start\" x=\"1691.5\" y=\"-111.8\" font-family=\"Helvetica,sans-Serif\" font-size=\"14.00\">class = No</text>\n</g>\n<!-- 17&#45;&gt;21 -->\n<g id=\"edge21\" class=\"edge\">\n<title>17&#45;&gt;21</title>\n<path fill=\"none\" stroke=\"black\" d=\"M1671.45,-222.91C1677.68,-214.01 1684.34,-204.51 1690.78,-195.33\"/>\n<polygon fill=\"black\" stroke=\"black\" points=\"1693.73,-197.22 1696.6,-187.02 1688,-193.2 1693.73,-197.22\"/>\n</g>\n<!-- 19 -->\n<g id=\"node20\" class=\"node\">\n<title>19</title>\n<path fill=\"#eeae80\" stroke=\"black\" d=\"M1458,-68C1458,-68 1336,-68 1336,-68 1330,-68 1324,-62 1324,-56 1324,-56 1324,-12 1324,-12 1324,-6 1330,0 1336,0 1336,0 1458,0 1458,0 1464,0 1470,-6 1470,-12 1470,-12 1470,-56 1470,-56 1470,-62 1464,-68 1458,-68\"/>\n<text text-anchor=\"start\" x=\"1347\" y=\"-52.8\" font-family=\"Helvetica,sans-Serif\" font-size=\"14.00\">entropy = 0.831</text>\n<text text-anchor=\"start\" x=\"1341\" y=\"-37.8\" font-family=\"Helvetica,sans-Serif\" font-size=\"14.00\">samples = 10123</text>\n<text text-anchor=\"start\" x=\"1332\" y=\"-22.8\" font-family=\"Helvetica,sans-Serif\" font-size=\"14.00\">value = [7464, 2659]</text>\n<text text-anchor=\"start\" x=\"1366\" y=\"-7.8\" font-family=\"Helvetica,sans-Serif\" font-size=\"14.00\">class = Si</text>\n</g>\n<!-- 18&#45;&gt;19 -->\n<g id=\"edge19\" class=\"edge\">\n<title>18&#45;&gt;19</title>\n<path fill=\"none\" stroke=\"black\" d=\"M1499.93,-103.73C1485.24,-93.92 1469.59,-83.46 1455.04,-73.75\"/>\n<polygon fill=\"black\" stroke=\"black\" points=\"1456.87,-70.77 1446.61,-68.13 1452.99,-76.59 1456.87,-70.77\"/>\n</g>\n<!-- 20 -->\n<g id=\"node21\" class=\"node\">\n<title>20</title>\n<path fill=\"#fbede3\" stroke=\"black\" d=\"M1622,-68C1622,-68 1500,-68 1500,-68 1494,-68 1488,-62 1488,-56 1488,-56 1488,-12 1488,-12 1488,-6 1494,0 1500,0 1500,0 1622,0 1622,0 1628,0 1634,-6 1634,-12 1634,-12 1634,-56 1634,-56 1634,-62 1628,-68 1622,-68\"/>\n<text text-anchor=\"start\" x=\"1511\" y=\"-52.8\" font-family=\"Helvetica,sans-Serif\" font-size=\"14.00\">entropy = 0.996</text>\n<text text-anchor=\"start\" x=\"1509.5\" y=\"-37.8\" font-family=\"Helvetica,sans-Serif\" font-size=\"14.00\">samples = 3558</text>\n<text text-anchor=\"start\" x=\"1496\" y=\"-22.8\" font-family=\"Helvetica,sans-Serif\" font-size=\"14.00\">value = [1914, 1644]</text>\n<text text-anchor=\"start\" x=\"1530\" y=\"-7.8\" font-family=\"Helvetica,sans-Serif\" font-size=\"14.00\">class = Si</text>\n</g>\n<!-- 18&#45;&gt;20 -->\n<g id=\"edge20\" class=\"edge\">\n<title>18&#45;&gt;20</title>\n<path fill=\"none\" stroke=\"black\" d=\"M1561,-103.73C1561,-95.52 1561,-86.86 1561,-78.56\"/>\n<polygon fill=\"black\" stroke=\"black\" points=\"1564.5,-78.3 1561,-68.3 1557.5,-78.3 1564.5,-78.3\"/>\n</g>\n<!-- 22 -->\n<g id=\"node23\" class=\"node\">\n<title>22</title>\n<path fill=\"#f8decb\" stroke=\"black\" d=\"M1786,-68C1786,-68 1664,-68 1664,-68 1658,-68 1652,-62 1652,-56 1652,-56 1652,-12 1652,-12 1652,-6 1658,0 1664,0 1664,0 1786,0 1786,0 1792,0 1798,-6 1798,-12 1798,-12 1798,-56 1798,-56 1798,-62 1792,-68 1786,-68\"/>\n<text text-anchor=\"start\" x=\"1675\" y=\"-52.8\" font-family=\"Helvetica,sans-Serif\" font-size=\"14.00\">entropy = 0.983</text>\n<text text-anchor=\"start\" x=\"1673.5\" y=\"-37.8\" font-family=\"Helvetica,sans-Serif\" font-size=\"14.00\">samples = 3297</text>\n<text text-anchor=\"start\" x=\"1660\" y=\"-22.8\" font-family=\"Helvetica,sans-Serif\" font-size=\"14.00\">value = [1898, 1399]</text>\n<text text-anchor=\"start\" x=\"1694\" y=\"-7.8\" font-family=\"Helvetica,sans-Serif\" font-size=\"14.00\">class = Si</text>\n</g>\n<!-- 21&#45;&gt;22 -->\n<g id=\"edge22\" class=\"edge\">\n<title>21&#45;&gt;22</title>\n<path fill=\"none\" stroke=\"black\" d=\"M1725,-103.73C1725,-95.52 1725,-86.86 1725,-78.56\"/>\n<polygon fill=\"black\" stroke=\"black\" points=\"1728.5,-78.3 1725,-68.3 1721.5,-78.3 1728.5,-78.3\"/>\n</g>\n<!-- 23 -->\n<g id=\"node24\" class=\"node\">\n<title>23</title>\n<path fill=\"#a6d3f3\" stroke=\"black\" d=\"M1950,-68C1950,-68 1828,-68 1828,-68 1822,-68 1816,-62 1816,-56 1816,-56 1816,-12 1816,-12 1816,-6 1822,0 1828,0 1828,0 1950,0 1950,0 1956,0 1962,-6 1962,-12 1962,-12 1962,-56 1962,-56 1962,-62 1956,-68 1950,-68\"/>\n<text text-anchor=\"start\" x=\"1839\" y=\"-52.8\" font-family=\"Helvetica,sans-Serif\" font-size=\"14.00\">entropy = 0.939</text>\n<text text-anchor=\"start\" x=\"1837.5\" y=\"-37.8\" font-family=\"Helvetica,sans-Serif\" font-size=\"14.00\">samples = 4669</text>\n<text text-anchor=\"start\" x=\"1824\" y=\"-22.8\" font-family=\"Helvetica,sans-Serif\" font-size=\"14.00\">value = [1658, 3011]</text>\n<text text-anchor=\"start\" x=\"1855.5\" y=\"-7.8\" font-family=\"Helvetica,sans-Serif\" font-size=\"14.00\">class = No</text>\n</g>\n<!-- 21&#45;&gt;23 -->\n<g id=\"edge23\" class=\"edge\">\n<title>21&#45;&gt;23</title>\n<path fill=\"none\" stroke=\"black\" d=\"M1786.07,-103.73C1800.76,-93.92 1816.41,-83.46 1830.96,-73.75\"/>\n<polygon fill=\"black\" stroke=\"black\" points=\"1833.01,-76.59 1839.39,-68.13 1829.13,-70.77 1833.01,-76.59\"/>\n</g>\n<!-- 25 -->\n<g id=\"node26\" class=\"node\">\n<title>25</title>\n<path fill=\"#94caf1\" stroke=\"black\" d=\"M2187.5,-187C2187.5,-187 2040.5,-187 2040.5,-187 2034.5,-187 2028.5,-181 2028.5,-175 2028.5,-175 2028.5,-116 2028.5,-116 2028.5,-110 2034.5,-104 2040.5,-104 2040.5,-104 2187.5,-104 2187.5,-104 2193.5,-104 2199.5,-110 2199.5,-116 2199.5,-116 2199.5,-175 2199.5,-175 2199.5,-181 2193.5,-187 2187.5,-187\"/>\n<text text-anchor=\"start\" x=\"2036.5\" y=\"-171.8\" font-family=\"Helvetica,sans-Serif\" font-size=\"14.00\">Pressure3pm ≤ 1015.15</text>\n<text text-anchor=\"start\" x=\"2064\" y=\"-156.8\" font-family=\"Helvetica,sans-Serif\" font-size=\"14.00\">entropy = 0.898</text>\n<text text-anchor=\"start\" x=\"2062.5\" y=\"-141.8\" font-family=\"Helvetica,sans-Serif\" font-size=\"14.00\">samples = 6173</text>\n<text text-anchor=\"start\" x=\"2049\" y=\"-126.8\" font-family=\"Helvetica,sans-Serif\" font-size=\"14.00\">value = [1942, 4231]</text>\n<text text-anchor=\"start\" x=\"2080.5\" y=\"-111.8\" font-family=\"Helvetica,sans-Serif\" font-size=\"14.00\">class = No</text>\n</g>\n<!-- 24&#45;&gt;25 -->\n<g id=\"edge25\" class=\"edge\">\n<title>24&#45;&gt;25</title>\n<path fill=\"none\" stroke=\"black\" d=\"M2114,-222.91C2114,-214.65 2114,-205.86 2114,-197.3\"/>\n<polygon fill=\"black\" stroke=\"black\" points=\"2117.5,-197.02 2114,-187.02 2110.5,-197.02 2117.5,-197.02\"/>\n</g>\n<!-- 28 -->\n<g id=\"node29\" class=\"node\">\n<title>28</title>\n<path fill=\"#59ade9\" stroke=\"black\" d=\"M2442.5,-187C2442.5,-187 2295.5,-187 2295.5,-187 2289.5,-187 2283.5,-181 2283.5,-175 2283.5,-175 2283.5,-116 2283.5,-116 2283.5,-110 2289.5,-104 2295.5,-104 2295.5,-104 2442.5,-104 2442.5,-104 2448.5,-104 2454.5,-110 2454.5,-116 2454.5,-116 2454.5,-175 2454.5,-175 2454.5,-181 2448.5,-187 2442.5,-187\"/>\n<text text-anchor=\"start\" x=\"2291.5\" y=\"-171.8\" font-family=\"Helvetica,sans-Serif\" font-size=\"14.00\">Pressure3pm ≤ 1012.25</text>\n<text text-anchor=\"start\" x=\"2319\" y=\"-156.8\" font-family=\"Helvetica,sans-Serif\" font-size=\"14.00\">entropy = 0.584</text>\n<text text-anchor=\"start\" x=\"2317.5\" y=\"-141.8\" font-family=\"Helvetica,sans-Serif\" font-size=\"14.00\">samples = 5552</text>\n<text text-anchor=\"start\" x=\"2308\" y=\"-126.8\" font-family=\"Helvetica,sans-Serif\" font-size=\"14.00\">value = [776, 4776]</text>\n<text text-anchor=\"start\" x=\"2335.5\" y=\"-111.8\" font-family=\"Helvetica,sans-Serif\" font-size=\"14.00\">class = No</text>\n</g>\n<!-- 24&#45;&gt;28 -->\n<g id=\"edge28\" class=\"edge\">\n<title>24&#45;&gt;28</title>\n<path fill=\"none\" stroke=\"black\" d=\"M2187.07,-229.97C2214.16,-217.54 2245.29,-203.26 2274.05,-190.07\"/>\n<polygon fill=\"black\" stroke=\"black\" points=\"2275.67,-193.17 2283.3,-185.82 2272.75,-186.81 2275.67,-193.17\"/>\n</g>\n<!-- 26 -->\n<g id=\"node27\" class=\"node\">\n<title>26</title>\n<path fill=\"#6bb6ec\" stroke=\"black\" d=\"M2106,-68C2106,-68 1992,-68 1992,-68 1986,-68 1980,-62 1980,-56 1980,-56 1980,-12 1980,-12 1980,-6 1986,0 1992,0 1992,0 2106,0 2106,0 2112,0 2118,-6 2118,-12 2118,-12 2118,-56 2118,-56 2118,-62 2112,-68 2106,-68\"/>\n<text text-anchor=\"start\" x=\"1999\" y=\"-52.8\" font-family=\"Helvetica,sans-Serif\" font-size=\"14.00\">entropy = 0.726</text>\n<text text-anchor=\"start\" x=\"1997.5\" y=\"-37.8\" font-family=\"Helvetica,sans-Serif\" font-size=\"14.00\">samples = 2996</text>\n<text text-anchor=\"start\" x=\"1988\" y=\"-22.8\" font-family=\"Helvetica,sans-Serif\" font-size=\"14.00\">value = [606, 2390]</text>\n<text text-anchor=\"start\" x=\"2015.5\" y=\"-7.8\" font-family=\"Helvetica,sans-Serif\" font-size=\"14.00\">class = No</text>\n</g>\n<!-- 25&#45;&gt;26 -->\n<g id=\"edge26\" class=\"edge\">\n<title>25&#45;&gt;26</title>\n<path fill=\"none\" stroke=\"black\" d=\"M2089.8,-103.73C2084.6,-94.97 2079.1,-85.7 2073.88,-76.91\"/>\n<polygon fill=\"black\" stroke=\"black\" points=\"2076.88,-75.11 2068.77,-68.3 2070.86,-78.69 2076.88,-75.11\"/>\n</g>\n<!-- 27 -->\n<g id=\"node28\" class=\"node\">\n<title>27</title>\n<path fill=\"#c9e4f8\" stroke=\"black\" d=\"M2270,-68C2270,-68 2148,-68 2148,-68 2142,-68 2136,-62 2136,-56 2136,-56 2136,-12 2136,-12 2136,-6 2142,0 2148,0 2148,0 2270,0 2270,0 2276,0 2282,-6 2282,-12 2282,-12 2282,-56 2282,-56 2282,-62 2276,-68 2270,-68\"/>\n<text text-anchor=\"start\" x=\"2159\" y=\"-52.8\" font-family=\"Helvetica,sans-Serif\" font-size=\"14.00\">entropy = 0.982</text>\n<text text-anchor=\"start\" x=\"2157.5\" y=\"-37.8\" font-family=\"Helvetica,sans-Serif\" font-size=\"14.00\">samples = 3177</text>\n<text text-anchor=\"start\" x=\"2144\" y=\"-22.8\" font-family=\"Helvetica,sans-Serif\" font-size=\"14.00\">value = [1336, 1841]</text>\n<text text-anchor=\"start\" x=\"2175.5\" y=\"-7.8\" font-family=\"Helvetica,sans-Serif\" font-size=\"14.00\">class = No</text>\n</g>\n<!-- 25&#45;&gt;27 -->\n<g id=\"edge27\" class=\"edge\">\n<title>25&#45;&gt;27</title>\n<path fill=\"none\" stroke=\"black\" d=\"M2149.37,-103.73C2157.21,-94.7 2165.51,-85.12 2173.36,-76.08\"/>\n<polygon fill=\"black\" stroke=\"black\" points=\"2176.2,-78.15 2180.11,-68.3 2170.91,-73.56 2176.2,-78.15\"/>\n</g>\n<!-- 29 -->\n<g id=\"node30\" class=\"node\">\n<title>29</title>\n<path fill=\"#4ba6e7\" stroke=\"black\" d=\"M2426,-68C2426,-68 2312,-68 2312,-68 2306,-68 2300,-62 2300,-56 2300,-56 2300,-12 2300,-12 2300,-6 2306,0 2312,0 2312,0 2426,0 2426,0 2432,0 2438,-6 2438,-12 2438,-12 2438,-56 2438,-56 2438,-62 2432,-68 2426,-68\"/>\n<text text-anchor=\"start\" x=\"2319\" y=\"-52.8\" font-family=\"Helvetica,sans-Serif\" font-size=\"14.00\">entropy = 0.416</text>\n<text text-anchor=\"start\" x=\"2317.5\" y=\"-37.8\" font-family=\"Helvetica,sans-Serif\" font-size=\"14.00\">samples = 2427</text>\n<text text-anchor=\"start\" x=\"2308\" y=\"-22.8\" font-family=\"Helvetica,sans-Serif\" font-size=\"14.00\">value = [204, 2223]</text>\n<text text-anchor=\"start\" x=\"2335.5\" y=\"-7.8\" font-family=\"Helvetica,sans-Serif\" font-size=\"14.00\">class = No</text>\n</g>\n<!-- 28&#45;&gt;29 -->\n<g id=\"edge29\" class=\"edge\">\n<title>28&#45;&gt;29</title>\n<path fill=\"none\" stroke=\"black\" d=\"M2369,-103.73C2369,-95.52 2369,-86.86 2369,-78.56\"/>\n<polygon fill=\"black\" stroke=\"black\" points=\"2372.5,-78.3 2369,-68.3 2365.5,-78.3 2372.5,-78.3\"/>\n</g>\n<!-- 30 -->\n<g id=\"node31\" class=\"node\">\n<title>30</title>\n<path fill=\"#65b3eb\" stroke=\"black\" d=\"M2582,-68C2582,-68 2468,-68 2468,-68 2462,-68 2456,-62 2456,-56 2456,-56 2456,-12 2456,-12 2456,-6 2462,0 2468,0 2468,0 2582,0 2582,0 2588,0 2594,-6 2594,-12 2594,-12 2594,-56 2594,-56 2594,-62 2588,-68 2582,-68\"/>\n<text text-anchor=\"start\" x=\"2475\" y=\"-52.8\" font-family=\"Helvetica,sans-Serif\" font-size=\"14.00\">entropy = 0.687</text>\n<text text-anchor=\"start\" x=\"2473.5\" y=\"-37.8\" font-family=\"Helvetica,sans-Serif\" font-size=\"14.00\">samples = 3125</text>\n<text text-anchor=\"start\" x=\"2464\" y=\"-22.8\" font-family=\"Helvetica,sans-Serif\" font-size=\"14.00\">value = [572, 2553]</text>\n<text text-anchor=\"start\" x=\"2491.5\" y=\"-7.8\" font-family=\"Helvetica,sans-Serif\" font-size=\"14.00\">class = No</text>\n</g>\n<!-- 28&#45;&gt;30 -->\n<g id=\"edge30\" class=\"edge\">\n<title>28&#45;&gt;30</title>\n<path fill=\"none\" stroke=\"black\" d=\"M2427.09,-103.73C2440.86,-94.06 2455.52,-83.77 2469.19,-74.17\"/>\n<polygon fill=\"black\" stroke=\"black\" points=\"2471.39,-76.91 2477.56,-68.3 2467.36,-71.18 2471.39,-76.91\"/>\n</g>\n</g>\n</svg>\n",
      "text/plain": [
       "<graphviz.sources.Source at 0x1fba2475ac0>"
      ]
     },
     "execution_count": 12,
     "metadata": {},
     "output_type": "execute_result"
    }
   ],
   "source": [
    "import graphviz \n",
    "import matplotlib\n",
    "import matplotlib.pyplot as plt\n",
    "\n",
    "dot_data = tree.export_graphviz(arbol, out_file=None, \n",
    "                         feature_names=X.columns,  \n",
    "                         class_names=['Si', 'No'],  \n",
    "                         filled=True, rounded=True,  \n",
    "                         special_characters=True)  \n",
    "graph = graphviz.Source(dot_data)\n",
    "graph"
   ]
  },
  {
   "cell_type": "code",
   "execution_count": 445,
   "metadata": {},
   "outputs": [
    {
     "name": "stdout",
     "output_type": "stream",
     "text": [
      "0.8351780558229066\n"
     ]
    }
   ],
   "source": [
    "print(accuracy_score(y, arbol.predict(X)))"
   ]
  },
  {
   "cell_type": "code",
   "execution_count": 446,
   "metadata": {},
   "outputs": [
    {
     "data": {
      "text/plain": [
       "0.8351780558229066"
      ]
     },
     "execution_count": 446,
     "metadata": {},
     "output_type": "execute_result"
    }
   ],
   "source": [
    "arbol.score(X,y)"
   ]
  },
  {
   "cell_type": "code",
   "execution_count": 447,
   "metadata": {},
   "outputs": [
    {
     "name": "stdout",
     "output_type": "stream",
     "text": [
      "0.6888801133033907\n"
     ]
    }
   ],
   "source": [
    "print(roc_auc_score(y, arbol.predict(X)))"
   ]
  },
  {
   "cell_type": "code",
   "execution_count": 265,
   "metadata": {},
   "outputs": [],
   "source": [
    "import seaborn as sns\n",
    "import matplotlib.pyplot as plt"
   ]
  },
  {
   "cell_type": "markdown",
   "metadata": {},
   "source": [
    "##### Vemos que humedad, efectivamente, es un muy buen atributo de corte, de hecho, es el mejor y el es por el que elige partir el algoritmo."
   ]
  },
  {
   "cell_type": "code",
   "execution_count": 272,
   "metadata": {},
   "outputs": [
    {
     "name": "stderr",
     "output_type": "stream",
     "text": [
      "C:\\Users\\Javi\\anaconda3\\lib\\site-packages\\seaborn\\distributions.py:2619: FutureWarning: `distplot` is a deprecated function and will be removed in a future version. Please adapt your code to use either `displot` (a figure-level function with similar flexibility) or `histplot` (an axes-level function for histograms).\n",
      "  warnings.warn(msg, FutureWarning)\n",
      "C:\\Users\\Javi\\anaconda3\\lib\\site-packages\\seaborn\\distributions.py:2619: FutureWarning: `distplot` is a deprecated function and will be removed in a future version. Please adapt your code to use either `displot` (a figure-level function with similar flexibility) or `histplot` (an axes-level function for histograms).\n",
      "  warnings.warn(msg, FutureWarning)\n"
     ]
    },
    {
     "data": {
      "text/plain": [
       "<matplotlib.legend.Legend at 0x1f91ab2f490>"
      ]
     },
     "execution_count": 272,
     "metadata": {},
     "output_type": "execute_result"
    },
    {
     "data": {
      "image/png": "[encoded data removed]",
      "text/plain": [
       "<Figure size 432x288 with 1 Axes>"
      ]
     },
     "metadata": {
      "needs_background": "light"
     },
     "output_type": "display_data"
    }
   ],
   "source": [
    "\n",
    "sns.distplot(df_weather.loc[df_weather[\"RainTomorrow\"] == 0, \"Humidity3pm\"])\n",
    "sns.distplot(df_weather.loc[df_weather[\"RainTomorrow\"] == 1, \"Humidity3pm\"])\n",
    "plt.legend([\"Si\", \"No\"])\n"
   ]
  },
  {
   "cell_type": "markdown",
   "metadata": {},
   "source": [
    "##### Mientras que Wind no es tan evidente, aunque se utiliza"
   ]
  },
  {
   "cell_type": "code",
   "execution_count": 274,
   "metadata": {},
   "outputs": [
    {
     "name": "stderr",
     "output_type": "stream",
     "text": [
      "C:\\Users\\Javi\\anaconda3\\lib\\site-packages\\seaborn\\distributions.py:2619: FutureWarning: `distplot` is a deprecated function and will be removed in a future version. Please adapt your code to use either `displot` (a figure-level function with similar flexibility) or `histplot` (an axes-level function for histograms).\n",
      "  warnings.warn(msg, FutureWarning)\n",
      "C:\\Users\\Javi\\anaconda3\\lib\\site-packages\\seaborn\\distributions.py:2619: FutureWarning: `distplot` is a deprecated function and will be removed in a future version. Please adapt your code to use either `displot` (a figure-level function with similar flexibility) or `histplot` (an axes-level function for histograms).\n",
      "  warnings.warn(msg, FutureWarning)\n"
     ]
    },
    {
     "data": {
      "text/plain": [
       "<matplotlib.legend.Legend at 0x1f91ac66790>"
      ]
     },
     "execution_count": 274,
     "metadata": {},
     "output_type": "execute_result"
    },
    {
     "data": {
      "image/png": "[encoded data removed]",
      "text/plain": [
       "<Figure size 432x288 with 1 Axes>"
      ]
     },
     "metadata": {
      "needs_background": "light"
     },
     "output_type": "display_data"
    }
   ],
   "source": [
    "sns.distplot(df_weather.loc[df_weather[\"RainTomorrow\"] == 0, \"WindGustSpeed\"])\n",
    "sns.distplot(df_weather.loc[df_weather[\"RainTomorrow\"] == 1, \"WindGustSpeed\"])\n",
    "\n",
    "plt.legend([\"Si\", \"No\"])\n"
   ]
  },
  {
   "cell_type": "markdown",
   "metadata": {},
   "source": [
    "##### Y sunshine, otra variable de corte que usa scikit, tampoco se puede apreciar bien el punto de corte con distplot"
   ]
  },
  {
   "cell_type": "code",
   "execution_count": 278,
   "metadata": {},
   "outputs": [
    {
     "name": "stderr",
     "output_type": "stream",
     "text": [
      "C:\\Users\\Javi\\anaconda3\\lib\\site-packages\\seaborn\\distributions.py:2619: FutureWarning: `distplot` is a deprecated function and will be removed in a future version. Please adapt your code to use either `displot` (a figure-level function with similar flexibility) or `histplot` (an axes-level function for histograms).\n",
      "  warnings.warn(msg, FutureWarning)\n",
      "C:\\Users\\Javi\\anaconda3\\lib\\site-packages\\seaborn\\distributions.py:2619: FutureWarning: `distplot` is a deprecated function and will be removed in a future version. Please adapt your code to use either `displot` (a figure-level function with similar flexibility) or `histplot` (an axes-level function for histograms).\n",
      "  warnings.warn(msg, FutureWarning)\n"
     ]
    },
    {
     "data": {
      "text/plain": [
       "<matplotlib.legend.Legend at 0x1f91b428fa0>"
      ]
     },
     "execution_count": 278,
     "metadata": {},
     "output_type": "execute_result"
    },
    {
     "data": {
      "image/png": "[encoded data removed]",
      "text/plain": [
       "<Figure size 432x288 with 1 Axes>"
      ]
     },
     "metadata": {
      "needs_background": "light"
     },
     "output_type": "display_data"
    }
   ],
   "source": [
    "\n",
    "sns.distplot(df_weather.loc[df_weather[\"RainTomorrow\"] == 0, \"Sunshine\"])\n",
    "sns.distplot(df_weather.loc[df_weather[\"RainTomorrow\"] == 1, \"Sunshine\"])\n",
    "plt.legend([\"Si\", \"No\"])\n"
   ]
  },
  {
   "cell_type": "markdown",
   "metadata": {},
   "source": [
    "##### Y por último miramos otras variables que no han sido usadas por scikit para ver la diferencia en el estilo de gráficas"
   ]
  },
  {
   "cell_type": "code",
   "execution_count": 279,
   "metadata": {},
   "outputs": [
    {
     "name": "stderr",
     "output_type": "stream",
     "text": [
      "C:\\Users\\Javi\\anaconda3\\lib\\site-packages\\seaborn\\distributions.py:2619: FutureWarning: `distplot` is a deprecated function and will be removed in a future version. Please adapt your code to use either `displot` (a figure-level function with similar flexibility) or `histplot` (an axes-level function for histograms).\n",
      "  warnings.warn(msg, FutureWarning)\n",
      "C:\\Users\\Javi\\anaconda3\\lib\\site-packages\\seaborn\\distributions.py:2619: FutureWarning: `distplot` is a deprecated function and will be removed in a future version. Please adapt your code to use either `displot` (a figure-level function with similar flexibility) or `histplot` (an axes-level function for histograms).\n",
      "  warnings.warn(msg, FutureWarning)\n"
     ]
    },
    {
     "data": {
      "text/plain": [
       "<matplotlib.legend.Legend at 0x1f91b647460>"
      ]
     },
     "execution_count": 279,
     "metadata": {},
     "output_type": "execute_result"
    },
    {
     "data": {
      "image/png": "[encoded data removed]",
      "text/plain": [
       "<Figure size 432x288 with 1 Axes>"
      ]
     },
     "metadata": {
      "needs_background": "light"
     },
     "output_type": "display_data"
    }
   ],
   "source": [
    "\n",
    "sns.distplot(df_weather.loc[df_weather[\"RainTomorrow\"] == 0, \"Rainfall\"])\n",
    "sns.distplot(df_weather.loc[df_weather[\"RainTomorrow\"] == 1, \"Rainfall\"])\n",
    "plt.legend([\"Si\", \"No\"])"
   ]
  },
  {
   "cell_type": "code",
   "execution_count": 282,
   "metadata": {},
   "outputs": [
    {
     "name": "stderr",
     "output_type": "stream",
     "text": [
      "C:\\Users\\Javi\\anaconda3\\lib\\site-packages\\seaborn\\distributions.py:2619: FutureWarning: `distplot` is a deprecated function and will be removed in a future version. Please adapt your code to use either `displot` (a figure-level function with similar flexibility) or `histplot` (an axes-level function for histograms).\n",
      "  warnings.warn(msg, FutureWarning)\n",
      "C:\\Users\\Javi\\anaconda3\\lib\\site-packages\\seaborn\\distributions.py:2619: FutureWarning: `distplot` is a deprecated function and will be removed in a future version. Please adapt your code to use either `displot` (a figure-level function with similar flexibility) or `histplot` (an axes-level function for histograms).\n",
      "  warnings.warn(msg, FutureWarning)\n"
     ]
    },
    {
     "data": {
      "text/plain": [
       "<matplotlib.legend.Legend at 0x1f91b879cd0>"
      ]
     },
     "execution_count": 282,
     "metadata": {},
     "output_type": "execute_result"
    },
    {
     "data": {
      "image/png": "[encoded data removed]",
      "text/plain": [
       "<Figure size 432x288 with 1 Axes>"
      ]
     },
     "metadata": {
      "needs_background": "light"
     },
     "output_type": "display_data"
    }
   ],
   "source": [
    "sns.distplot(df_weather.loc[df_weather[\"RainTomorrow\"] == 0, \"Cloud9am\"])\n",
    "sns.distplot(df_weather.loc[df_weather[\"RainTomorrow\"] == 1, \"Cloud9am\"])\n",
    "plt.legend([\"Si\", \"No\"])"
   ]
  },
  {
   "cell_type": "code",
   "execution_count": 449,
   "metadata": {},
   "outputs": [
    {
     "name": "stderr",
     "output_type": "stream",
     "text": [
      "C:\\Users\\Javi\\anaconda3\\lib\\site-packages\\seaborn\\distributions.py:2619: FutureWarning: `distplot` is a deprecated function and will be removed in a future version. Please adapt your code to use either `displot` (a figure-level function with similar flexibility) or `histplot` (an axes-level function for histograms).\n",
      "  warnings.warn(msg, FutureWarning)\n",
      "C:\\Users\\Javi\\anaconda3\\lib\\site-packages\\seaborn\\distributions.py:2619: FutureWarning: `distplot` is a deprecated function and will be removed in a future version. Please adapt your code to use either `displot` (a figure-level function with similar flexibility) or `histplot` (an axes-level function for histograms).\n",
      "  warnings.warn(msg, FutureWarning)\n"
     ]
    },
    {
     "data": {
      "text/plain": [
       "<matplotlib.legend.Legend at 0x1f91b758250>"
      ]
     },
     "execution_count": 449,
     "metadata": {},
     "output_type": "execute_result"
    },
    {
     "data": {
      "image/png": "[encoded data removed]",
      "text/plain": [
       "<Figure size 432x288 with 1 Axes>"
      ]
     },
     "metadata": {
      "needs_background": "light"
     },
     "output_type": "display_data"
    }
   ],
   "source": [
    "sns.distplot(df_weather.loc[df_weather[\"RainTomorrow\"] == 0, \"Pressure3pm\"])\n",
    "sns.distplot(df_weather.loc[df_weather[\"RainTomorrow\"] == 1, \"Pressure3pm\"])\n",
    "plt.legend([\"Si\", \"No\"])"
   ]
  },
  {
   "cell_type": "code",
   "execution_count": null,
   "metadata": {},
   "outputs": [],
   "source": []
  }
 ],
 "metadata": {
  "interpreter": {
   "hash": "f8dfefda13261b8ad209638d23fa991fe78f06a43b532e371779d63d6d7b72d7"
  },
  "kernelspec": {
   "display_name": "Python 3.9.7 ('base')",
   "language": "python",
   "name": "python3"
  },
  "language_info": {
   "codemirror_mode": {
    "name": "ipython",
    "version": 3
   },
   "file_extension": ".py",
   "mimetype": "text/x-python",
   "name": "python",
   "nbconvert_exporter": "python",
   "pygments_lexer": "ipython3",
   "version": "3.8.8"
  },
  "orig_nbformat": 4
 },
 "nbformat": 4,
 "nbformat_minor": 2
}
